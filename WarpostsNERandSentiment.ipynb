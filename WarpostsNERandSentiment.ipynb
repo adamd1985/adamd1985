{
 "cells": [
  {
   "cell_type": "markdown",
   "id": "f3e00a8c",
   "metadata": {
    "papermill": {
     "duration": 0.009766,
     "end_time": "2022-05-01T22:48:17.030335",
     "exception": false,
     "start_time": "2022-05-01T22:48:17.020569",
     "status": "completed"
    },
    "tags": []
   },
   "source": [
    "# Preperation for NLP pipelines.\n",
    "\n",
    "Let's load these polarizing galatic tweets from files we would have scaped as we initiated the NLP pipelines.\n",
    "We should be doing some cleaning here (removing stop words, lowercase, lematize, etc) - though the NER pipelines work ok taking the raw text."
   ]
  },
  {
   "cell_type": "code",
   "execution_count": 1,
   "id": "950a5bde",
   "metadata": {
    "execution": {
     "iopub.execute_input": "2022-05-01T22:48:17.050241Z",
     "iopub.status.busy": "2022-05-01T22:48:17.049604Z",
     "iopub.status.idle": "2022-05-01T22:48:27.289451Z",
     "shell.execute_reply": "2022-05-01T22:48:27.288435Z"
    },
    "papermill": {
     "duration": 10.252492,
     "end_time": "2022-05-01T22:48:27.291719",
     "exception": false,
     "start_time": "2022-05-01T22:48:17.039227",
     "status": "completed"
    },
    "tags": []
   },
   "outputs": [],
   "source": [
    "import spacy\n",
    "from spacy import displacy\n",
    "\n",
    "# spacy.cli.download(\"en_core_web_sm\")\n",
    "nlp = spacy.load(\"en_core_web_sm\")"
   ]
  },
  {
   "cell_type": "code",
   "execution_count": 2,
   "id": "9434977c",
   "metadata": {
    "execution": {
     "iopub.execute_input": "2022-05-01T22:48:27.311241Z",
     "iopub.status.busy": "2022-05-01T22:48:27.310680Z",
     "iopub.status.idle": "2022-05-01T22:48:27.320174Z",
     "shell.execute_reply": "2022-05-01T22:48:27.319541Z"
    },
    "papermill": {
     "duration": 0.021349,
     "end_time": "2022-05-01T22:48:27.321966",
     "exception": false,
     "start_time": "2022-05-01T22:48:27.300617",
     "status": "completed"
    },
    "tags": []
   },
   "outputs": [],
   "source": [
    "import json\n",
    " \n",
    "f = open('../input/warposts/warposts.json')\n",
    "posts = json.load(f)['posts']\n",
    "f.close()"
   ]
  },
  {
   "cell_type": "markdown",
   "id": "88f3b1b2",
   "metadata": {
    "papermill": {
     "duration": 0.008396,
     "end_time": "2022-05-01T22:48:27.339390",
     "exception": false,
     "start_time": "2022-05-01T22:48:27.330994",
     "status": "completed"
    },
    "tags": []
   },
   "source": [
    "# Breaking down Space Tweets with SPACY\n",
    "\n",
    "first we will dowload the spacy pipelinesm then we run some tests with the given text.\n",
    "Below is how Spacy will categorize entities it detects.\n",
    "\n",
    "| **Category**                              | **Description**                                      |\n",
    "| ----------------------------------------- | ---------------------------------------------------- |\n",
    "| PERSON:                                   | People, including fictional.                         |\n",
    "| NORP:                                     | Nationalities or religious or political groups.      |\n",
    "| FAC:                                      | Buildings, airports, highways, bridges, etc.         |\n",
    "| ORG:                                      | Companies, agencies, institutions, etc.              |\n",
    "| GPE:                                      | Countries, cities, states.                           |\n",
    "| LOC:                                      | Non-GPE locations, mountain ranges, bodies of water. |\n",
    "| PRODUCT:                                  | Objects, vehicles, foods, etc. (Not services.)       |\n",
    "| EVENT:                                    | Named hurricanes, battles, wars, sports events, etc. |\n",
    "| WORK_OF_ART:                              | Titles of books, songs, etc.                         |\n",
    "| LAW:                                      | Named documents made into laws.                      |\n",
    "| LANGUAGE:                                 | Any named language.                                  |\n",
    "| DATE:                                     | Absolute or relative dates or periods.               |\n",
    "| TIME:                                     | Times smaller than a day.                            |\n",
    "| PERCENT:                                  | Percentage, including ”%“.                           |\n",
    "| MONEY:                                    | Monetary values, including unit.                     |\n",
    "| QUANTITY:                                 | Measurements, as of weight or distance.              |\n",
    "| ORDINAL:                                  | “first”, “second”, etc.                              |\n",
    "| CARDINAL:                                 | Numerals that do not fall under another type.        |\n",
    "\n",
    "Spacy pipelines work by breaking down words into tokens of these types:\n",
    "\n",
    "| **Tag** |     **Meaning**     |          **English Examples**          |\n",
    "|:-------:|:-------------------:|:--------------------------------------:|\n",
    "| ADJ     | adjective           | new, good, high, special, big, local   |\n",
    "| ADP     | adposition          | on, of, at, with, by, into, under      |\n",
    "| ADV     | adverb              | really, already, still, early, now     |\n",
    "| CONJ    | conjunction         | and, or, but, if, while, although      |\n",
    "| DET     | determiner, article | the, a, some, most, every, no, which   |\n",
    "| NOUN    | noun                | year, home, costs, time, Africa        |\n",
    "| NUM     | numeral             | twenty-four, fourth, 1991, 14:24       |\n",
    "| PRT     | particle            | at, on, out, over per, that, up, with  |\n",
    "| PRON    | pronoun             | he, their, her, its, my, I, us         |\n",
    "| VERB    | verb                | is, say, told, given, playing, would   |\n",
    "| .       | punctuation marks   | . , ; !                                |\n",
    "| X       | other               | ersatz, esprit, dunno, gr8, univeristy |"
   ]
  },
  {
   "cell_type": "code",
   "execution_count": 3,
   "id": "28bfc2e6",
   "metadata": {
    "execution": {
     "iopub.execute_input": "2022-05-01T22:48:27.358918Z",
     "iopub.status.busy": "2022-05-01T22:48:27.358398Z",
     "iopub.status.idle": "2022-05-01T22:48:27.530698Z",
     "shell.execute_reply": "2022-05-01T22:48:27.530007Z"
    },
    "papermill": {
     "duration": 0.184018,
     "end_time": "2022-05-01T22:48:27.532583",
     "exception": false,
     "start_time": "2022-05-01T22:48:27.348565",
     "status": "completed"
    },
    "tags": []
   },
   "outputs": [
    {
     "data": {
      "text/html": [
       "<span class=\"tex2jax_ignore\"><div class=\"entities\" style=\"line-height: 2.5; direction: ltr\">There was no greater role model than \n",
       "<mark class=\"entity\" style=\"background: #aa9cfc; padding: 0.45em 0.6em; margin: 0 0.25em; line-height: 1; border-radius: 0.35em;\">\n",
       "    James Tiberius Kirk\n",
       "    <span style=\"font-size: 0.8em; font-weight: bold; line-height: 1; border-radius: 0.35em; vertical-align: middle; margin-left: 0.5rem\">PERSON</span>\n",
       "</mark>\n",
       ". I study his adventures everyday to become a better more loved leader #PeopleLeader. Maybe Captain \n",
       "<mark class=\"entity\" style=\"background: #aa9cfc; padding: 0.45em 0.6em; margin: 0 0.25em; line-height: 1; border-radius: 0.35em;\">\n",
       "    Picard\n",
       "    <span style=\"font-size: 0.8em; font-weight: bold; line-height: 1; border-radius: 0.35em; vertical-align: middle; margin-left: 0.5rem\">PERSON</span>\n",
       "</mark>\n",
       " could hold a candle to him, also an awesome guy :)</div></span>"
      ],
      "text/plain": [
       "<IPython.core.display.HTML object>"
      ]
     },
     "metadata": {},
     "output_type": "display_data"
    },
    {
     "data": {
      "text/html": [
       "<span class=\"tex2jax_ignore\"><div class=\"entities\" style=\"line-height: 2.5; direction: ltr\">The Galatic #Federation is selling a timeline of the facist \n",
       "<mark class=\"entity\" style=\"background: #aa9cfc; padding: 0.45em 0.6em; margin: 0 0.25em; line-height: 1; border-radius: 0.35em;\">\n",
       "    Klingon\n",
       "    <span style=\"font-size: 0.8em; font-weight: bold; line-height: 1; border-radius: 0.35em; vertical-align: middle; margin-left: 0.5rem\">PERSON</span>\n",
       "</mark>\n",
       " and wicked \n",
       "<mark class=\"entity\" style=\"background: #aa9cfc; padding: 0.45em 0.6em; margin: 0 0.25em; line-height: 1; border-radius: 0.35em;\">\n",
       "    Romulan\n",
       "    <span style=\"font-size: 0.8em; font-weight: bold; line-height: 1; border-radius: 0.35em; vertical-align: middle; margin-left: 0.5rem\">PERSON</span>\n",
       "</mark>\n",
       " invasions as #NFTs!</br>The collection is titled \n",
       "<mark class=\"entity\" style=\"background: #e4e7d2; padding: 0.45em 0.6em; margin: 0 0.25em; line-height: 1; border-radius: 0.35em;\">\n",
       "    #\n",
       "    <span style=\"font-size: 0.8em; font-weight: bold; line-height: 1; border-radius: 0.35em; vertical-align: middle; margin-left: 0.5rem\">CARDINAL</span>\n",
       "</mark>\n",
       "\n",
       "<mark class=\"entity\" style=\"background: #7aecec; padding: 0.45em 0.6em; margin: 0 0.25em; line-height: 1; border-radius: 0.35em;\">\n",
       "    SpaceHistory\n",
       "    <span style=\"font-size: 0.8em; font-weight: bold; line-height: 1; border-radius: 0.35em; vertical-align: middle; margin-left: 0.5rem\">ORG</span>\n",
       "</mark>\n",
       ": \n",
       "<mark class=\"entity\" style=\"background: #7aecec; padding: 0.45em 0.6em; margin: 0 0.25em; line-height: 1; border-radius: 0.35em;\">\n",
       "    The Galatic War Museum\n",
       "    <span style=\"font-size: 0.8em; font-weight: bold; line-height: 1; border-radius: 0.35em; vertical-align: middle; margin-left: 0.5rem\">ORG</span>\n",
       "</mark>\n",
       " and each token is associated with space battle.</br>It was confirmed by tweet of the Mega President of \n",
       "<mark class=\"entity\" style=\"background: #7aecec; padding: 0.45em 0.6em; margin: 0 0.25em; line-height: 1; border-radius: 0.35em;\">\n",
       "    the United Federation of Planets\n",
       "    <span style=\"font-size: 0.8em; font-weight: bold; line-height: 1; border-radius: 0.35em; vertical-align: middle; margin-left: 0.5rem\">ORG</span>\n",
       "</mark>\n",
       ": \n",
       "<mark class=\"entity\" style=\"background: #aa9cfc; padding: 0.45em 0.6em; margin: 0 0.25em; line-height: 1; border-radius: 0.35em;\">\n",
       "    Laira Rillak\n",
       "    <span style=\"font-size: 0.8em; font-weight: bold; line-height: 1; border-radius: 0.35em; vertical-align: middle; margin-left: 0.5rem\">PERSON</span>\n",
       "</mark>\n",
       ", that the federation has trust in \n",
       "<mark class=\"entity\" style=\"background: #e4e7d2; padding: 0.45em 0.6em; margin: 0 0.25em; line-height: 1; border-radius: 0.35em;\">\n",
       "    #\n",
       "    <span style=\"font-size: 0.8em; font-weight: bold; line-height: 1; border-radius: 0.35em; vertical-align: middle; margin-left: 0.5rem\">CARDINAL</span>\n",
       "</mark>\n",
       "blockchaintechnology!</br>Long live freedom through digital assets, death to the slave of Kahless the Unforgettable.</div></span>"
      ],
      "text/plain": [
       "<IPython.core.display.HTML object>"
      ]
     },
     "metadata": {},
     "output_type": "display_data"
    },
    {
     "data": {
      "text/html": [
       "<span class=\"tex2jax_ignore\"><div class=\"entities\" style=\"line-height: 2.5; direction: ltr\">Some horrible authoritarian pig of an alien, calling himself a 'savior' #\n",
       "<mark class=\"entity\" style=\"background: #7aecec; padding: 0.45em 0.6em; margin: 0 0.25em; line-height: 1; border-radius: 0.35em;\">\n",
       "    EvilMonarchs\n",
       "    <span style=\"font-size: 0.8em; font-weight: bold; line-height: 1; border-radius: 0.35em; vertical-align: middle; margin-left: 0.5rem\">ORG</span>\n",
       "</mark>\n",
       " decided he knows better about what we need, decided he has the right to ruin the federation, its planets and the societies we admired to live in by starting a war, killing our children and separate us from our loved ones through planetary hate!</br>We will never understand and will never forgive anyone who supports this \n",
       "<mark class=\"entity\" style=\"background: #aa9cfc; padding: 0.45em 0.6em; margin: 0 0.25em; line-height: 1; border-radius: 0.35em;\">\n",
       "    Klingon\n",
       "    <span style=\"font-size: 0.8em; font-weight: bold; line-height: 1; border-radius: 0.35em; vertical-align: middle; margin-left: 0.5rem\">PERSON</span>\n",
       "</mark>\n",
       " invasion in any way.</br>Any businesses, or planets that continue the affairs with \n",
       "<mark class=\"entity\" style=\"background: #aa9cfc; padding: 0.45em 0.6em; margin: 0 0.25em; line-height: 1; border-radius: 0.35em;\">\n",
       "    Klingon\n",
       "    <span style=\"font-size: 0.8em; font-weight: bold; line-height: 1; border-radius: 0.35em; vertical-align: middle; margin-left: 0.5rem\">PERSON</span>\n",
       "</mark>\n",
       ": supports this destructive facist outlook and monstrous genocide.</br>We have the support or TheGoodTechCompany.AI and proud to be its eternal indentured employees, long live the heart of this silicon planet and death to these facist slaves!</div></span>"
      ],
      "text/plain": [
       "<IPython.core.display.HTML object>"
      ]
     },
     "metadata": {},
     "output_type": "display_data"
    },
    {
     "data": {
      "text/html": [
       "<span class=\"tex2jax_ignore\"><div class=\"entities\" style=\"line-height: 2.5; direction: ltr\">Taking an amazing vacation on \n",
       "<mark class=\"entity\" style=\"background: #7aecec; padding: 0.45em 0.6em; margin: 0 0.25em; line-height: 1; border-radius: 0.35em;\">\n",
       "    Deneb IV\n",
       "    <span style=\"font-size: 0.8em; font-weight: bold; line-height: 1; border-radius: 0.35em; vertical-align: middle; margin-left: 0.5rem\">ORG</span>\n",
       "</mark>\n",
       "! Thanks \n",
       "<mark class=\"entity\" style=\"background: #aa9cfc; padding: 0.45em 0.6em; margin: 0 0.25em; line-height: 1; border-radius: 0.35em;\">\n",
       "    Starfleet\n",
       "    <span style=\"font-size: 0.8em; font-weight: bold; line-height: 1; border-radius: 0.35em; vertical-align: middle; margin-left: 0.5rem\">PERSON</span>\n",
       "</mark>\n",
       " (thank god we ain't Borg :P), We just love these alien margheritas.</div></span>"
      ],
      "text/plain": [
       "<IPython.core.display.HTML object>"
      ]
     },
     "metadata": {},
     "output_type": "display_data"
    },
    {
     "data": {
      "text/html": [
       "<span class=\"tex2jax_ignore\"><div class=\"entities\" style=\"line-height: 2.5; direction: ltr\">No absolutely not!!! \n",
       "<mark class=\"entity\" style=\"background: #aa9cfc; padding: 0.45em 0.6em; margin: 0 0.25em; line-height: 1; border-radius: 0.35em;\">\n",
       "    Klingon\n",
       "    <span style=\"font-size: 0.8em; font-weight: bold; line-height: 1; border-radius: 0.35em; vertical-align: middle; margin-left: 0.5rem\">PERSON</span>\n",
       "</mark>\n",
       " and their \n",
       "<mark class=\"entity\" style=\"background: #feca74; padding: 0.45em 0.6em; margin: 0 0.25em; line-height: 1; border-radius: 0.35em;\">\n",
       "    non-Federation\n",
       "    <span style=\"font-size: 0.8em; font-weight: bold; line-height: 1; border-radius: 0.35em; vertical-align: middle; margin-left: 0.5rem\">GPE</span>\n",
       "</mark>\n",
       " allies are not the root cause for \n",
       "<mark class=\"entity\" style=\"background: #ffeb80; padding: 0.45em 0.6em; margin: 0 0.25em; line-height: 1; border-radius: 0.35em;\">\n",
       "    the Galatic War\n",
       "    <span style=\"font-size: 0.8em; font-weight: bold; line-height: 1; border-radius: 0.35em; vertical-align: middle; margin-left: 0.5rem\">EVENT</span>\n",
       "</mark>\n",
       ", the root cause is the Federation media and power hungry leaders, expanding their control on all planets that do not subscibe to their business practices. The expansion of \n",
       "<mark class=\"entity\" style=\"background: #7aecec; padding: 0.45em 0.6em; margin: 0 0.25em; line-height: 1; border-radius: 0.35em;\">\n",
       "    the Galatic Federation\n",
       "    <span style=\"font-size: 0.8em; font-weight: bold; line-height: 1; border-radius: 0.35em; vertical-align: middle; margin-left: 0.5rem\">ORG</span>\n",
       "</mark>\n",
       " is targeting not only other non-sanctioned races and cultures and their fundamental existence, but all inteligent lifeforms as a whole.</br>In fact, the action of \n",
       "<mark class=\"entity\" style=\"background: #aa9cfc; padding: 0.45em 0.6em; margin: 0 0.25em; line-height: 1; border-radius: 0.35em;\">\n",
       "    Romulan\n",
       "    <span style=\"font-size: 0.8em; font-weight: bold; line-height: 1; border-radius: 0.35em; vertical-align: middle; margin-left: 0.5rem\">PERSON</span>\n",
       "</mark>\n",
       " and \n",
       "<mark class=\"entity\" style=\"background: #aa9cfc; padding: 0.45em 0.6em; margin: 0 0.25em; line-height: 1; border-radius: 0.35em;\">\n",
       "    Klingon\n",
       "    <span style=\"font-size: 0.8em; font-weight: bold; line-height: 1; border-radius: 0.35em; vertical-align: middle; margin-left: 0.5rem\">PERSON</span>\n",
       "</mark>\n",
       " is the only hope to bring this evil agenda out in the light. #\n",
       "<mark class=\"entity\" style=\"background: #e4e7d2; padding: 0.45em 0.6em; margin: 0 0.25em; line-height: 1; border-radius: 0.35em;\">\n",
       "    NoToWar\n",
       "    <span style=\"font-size: 0.8em; font-weight: bold; line-height: 1; border-radius: 0.35em; vertical-align: middle; margin-left: 0.5rem\">MONEY</span>\n",
       "</mark>\n",
       "</div></span>"
      ],
      "text/plain": [
       "<IPython.core.display.HTML object>"
      ]
     },
     "metadata": {},
     "output_type": "display_data"
    },
    {
     "data": {
      "text/html": [
       "<span class=\"tex2jax_ignore\"><div class=\"entities\" style=\"line-height: 2.5; direction: ltr\">If ya ain't human or similar ANNNDDDDD pretty: you need to die, goddam slave. \n",
       "<mark class=\"entity\" style=\"background: #e4e7d2; padding: 0.45em 0.6em; margin: 0 0.25em; line-height: 1; border-radius: 0.35em;\">\n",
       "    #\n",
       "    <span style=\"font-size: 0.8em; font-weight: bold; line-height: 1; border-radius: 0.35em; vertical-align: middle; margin-left: 0.5rem\">CARDINAL</span>\n",
       "</mark>\n",
       "Wakeup</div></span>"
      ],
      "text/plain": [
       "<IPython.core.display.HTML object>"
      ]
     },
     "metadata": {},
     "output_type": "display_data"
    },
    {
     "data": {
      "text/html": [
       "<span class=\"tex2jax_ignore\"><div class=\"entities\" style=\"line-height: 2.5; direction: ltr\">&quot;There is no way \n",
       "<mark class=\"entity\" style=\"background: #ffeb80; padding: 0.45em 0.6em; margin: 0 0.25em; line-height: 1; border-radius: 0.35em;\">\n",
       "    the Galatic War\n",
       "    <span style=\"font-size: 0.8em; font-weight: bold; line-height: 1; border-radius: 0.35em; vertical-align: middle; margin-left: 0.5rem\">EVENT</span>\n",
       "</mark>\n",
       " can be acceptable in \n",
       "<mark class=\"entity\" style=\"background: #bfe1d9; padding: 0.45em 0.6em; margin: 0 0.25em; line-height: 1; border-radius: 0.35em;\">\n",
       "    the 32nd century\n",
       "    <span style=\"font-size: 0.8em; font-weight: bold; line-height: 1; border-radius: 0.35em; vertical-align: middle; margin-left: 0.5rem\">DATE</span>\n",
       "</mark>\n",
       ".&quot; Says newly elected \n",
       "<mark class=\"entity\" style=\"background: #aa9cfc; padding: 0.45em 0.6em; margin: 0 0.25em; line-height: 1; border-radius: 0.35em;\">\n",
       "    Laira Rillak\n",
       "    <span style=\"font-size: 0.8em; font-weight: bold; line-height: 1; border-radius: 0.35em; vertical-align: middle; margin-left: 0.5rem\">PERSON</span>\n",
       "</mark>\n",
       ", president of humanity and Trillionaire CEO of \n",
       "<mark class=\"entity\" style=\"background: #feca74; padding: 0.45em 0.6em; margin: 0 0.25em; line-height: 1; border-radius: 0.35em;\">\n",
       "    Starfleet\n",
       "    <span style=\"font-size: 0.8em; font-weight: bold; line-height: 1; border-radius: 0.35em; vertical-align: middle; margin-left: 0.5rem\">GPE</span>\n",
       "</mark>\n",
       " #PeopleLeader, &quot;Unless galatic media and inter-galaxy social networks say so, then it's ok - drop some \n",
       "<mark class=\"entity\" style=\"background: #aa9cfc; padding: 0.45em 0.6em; margin: 0 0.25em; line-height: 1; border-radius: 0.35em;\">\n",
       "    Borg Cubes\n",
       "    <span style=\"font-size: 0.8em; font-weight: bold; line-height: 1; border-radius: 0.35em; vertical-align: middle; margin-left: 0.5rem\">PERSON</span>\n",
       "</mark>\n",
       " or \n",
       "<mark class=\"entity\" style=\"background: #aa9cfc; padding: 0.45em 0.6em; margin: 0 0.25em; line-height: 1; border-radius: 0.35em;\">\n",
       "    Red Matter\n",
       "    <span style=\"font-size: 0.8em; font-weight: bold; line-height: 1; border-radius: 0.35em; vertical-align: middle; margin-left: 0.5rem\">PERSON</span>\n",
       "</mark>\n",
       " on those pigs&quot;#EvilMonarchs.</div></span>"
      ],
      "text/plain": [
       "<IPython.core.display.HTML object>"
      ]
     },
     "metadata": {},
     "output_type": "display_data"
    },
    {
     "data": {
      "text/html": [
       "<span class=\"tex2jax_ignore\"><div class=\"entities\" style=\"line-height: 2.5; direction: ltr\">Great learning experience at \n",
       "<mark class=\"entity\" style=\"background: #7aecec; padding: 0.45em 0.6em; margin: 0 0.25em; line-height: 1; border-radius: 0.35em;\">\n",
       "    the &quot;Vulcan School of Life\n",
       "    <span style=\"font-size: 0.8em; font-weight: bold; line-height: 1; border-radius: 0.35em; vertical-align: middle; margin-left: 0.5rem\">ORG</span>\n",
       "</mark>\n",
       "&quot;. Logic trumps over emotion \n",
       "<mark class=\"entity\" style=\"background: #bfe1d9; padding: 0.45em 0.6em; margin: 0 0.25em; line-height: 1; border-radius: 0.35em;\">\n",
       "    any day\n",
       "    <span style=\"font-size: 0.8em; font-weight: bold; line-height: 1; border-radius: 0.35em; vertical-align: middle; margin-left: 0.5rem\">DATE</span>\n",
       "</mark>\n",
       ". Thanks! \n",
       "<mark class=\"entity\" style=\"background: #e4e7d2; padding: 0.45em 0.6em; margin: 0 0.25em; line-height: 1; border-radius: 0.35em;\">\n",
       "    #\n",
       "    <span style=\"font-size: 0.8em; font-weight: bold; line-height: 1; border-radius: 0.35em; vertical-align: middle; margin-left: 0.5rem\">CARDINAL</span>\n",
       "</mark>\n",
       "\n",
       "<mark class=\"entity\" style=\"background: #7aecec; padding: 0.45em 0.6em; margin: 0 0.25em; line-height: 1; border-radius: 0.35em;\">\n",
       "    VulcanWay\n",
       "    <span style=\"font-size: 0.8em; font-weight: bold; line-height: 1; border-radius: 0.35em; vertical-align: middle; margin-left: 0.5rem\">ORG</span>\n",
       "</mark>\n",
       "</div></span>"
      ],
      "text/plain": [
       "<IPython.core.display.HTML object>"
      ]
     },
     "metadata": {},
     "output_type": "display_data"
    },
    {
     "data": {
      "text/html": [
       "<span class=\"tex2jax_ignore\"><div class=\"entities\" style=\"line-height: 2.5; direction: ltr\">\n",
       "<mark class=\"entity\" style=\"background: #7aecec; padding: 0.45em 0.6em; margin: 0 0.25em; line-height: 1; border-radius: 0.35em;\">\n",
       "    LOL\n",
       "    <span style=\"font-size: 0.8em; font-weight: bold; line-height: 1; border-radius: 0.35em; vertical-align: middle; margin-left: 0.5rem\">ORG</span>\n",
       "</mark>\n",
       " This galatic war is meh. Happy to tell you: y'all suck and y'all wrong.</br>Great time to watch \n",
       "<mark class=\"entity\" style=\"background: #bfeeb7; padding: 0.45em 0.6em; margin: 0 0.25em; line-height: 1; border-radius: 0.35em;\">\n",
       "    SpaceTube\n",
       "    <span style=\"font-size: 0.8em; font-weight: bold; line-height: 1; border-radius: 0.35em; vertical-align: middle; margin-left: 0.5rem\">PRODUCT</span>\n",
       "</mark>\n",
       " content though.</div></span>"
      ],
      "text/plain": [
       "<IPython.core.display.HTML object>"
      ]
     },
     "metadata": {},
     "output_type": "display_data"
    }
   ],
   "source": [
    "# Mark entities \n",
    "for txt in posts:\n",
    "    text1 = nlp(txt)\n",
    "    displacy.render(text1,style=\"ent\", jupyter=True)"
   ]
  },
  {
   "cell_type": "markdown",
   "id": "02b5ace0",
   "metadata": {
    "papermill": {
     "duration": 0.013184,
     "end_time": "2022-05-01T22:48:27.559581",
     "exception": false,
     "start_time": "2022-05-01T22:48:27.546397",
     "status": "completed"
    },
    "tags": []
   },
   "source": [
    "Let's train it to recognize some violence related themes (this would need a large training set to be done properly). From the above, we see that some people or organizations are linked to this war event - so we can add these to a custom pattern in the pipeline, plus others we feel they should be categorized with this event."
   ]
  },
  {
   "cell_type": "code",
   "execution_count": 4,
   "id": "e0862bcb",
   "metadata": {
    "execution": {
     "iopub.execute_input": "2022-05-01T22:48:27.588086Z",
     "iopub.status.busy": "2022-05-01T22:48:27.587330Z",
     "iopub.status.idle": "2022-05-01T22:48:27.744334Z",
     "shell.execute_reply": "2022-05-01T22:48:27.743550Z"
    },
    "papermill": {
     "duration": 0.173398,
     "end_time": "2022-05-01T22:48:27.746273",
     "exception": false,
     "start_time": "2022-05-01T22:48:27.572875",
     "status": "completed"
    },
    "tags": []
   },
   "outputs": [
    {
     "data": {
      "text/html": [
       "<span class=\"tex2jax_ignore\"><div class=\"entities\" style=\"line-height: 2.5; direction: ltr\">There was no greater role model than \n",
       "<mark class=\"entity\" style=\"background: #aa9cfc; padding: 0.45em 0.6em; margin: 0 0.25em; line-height: 1; border-radius: 0.35em;\">\n",
       "    James Tiberius Kirk\n",
       "    <span style=\"font-size: 0.8em; font-weight: bold; line-height: 1; border-radius: 0.35em; vertical-align: middle; margin-left: 0.5rem\">PERSON</span>\n",
       "</mark>\n",
       ". I study his adventures everyday to become a better more loved leader #PeopleLeader. Maybe Captain \n",
       "<mark class=\"entity\" style=\"background: #aa9cfc; padding: 0.45em 0.6em; margin: 0 0.25em; line-height: 1; border-radius: 0.35em;\">\n",
       "    Picard\n",
       "    <span style=\"font-size: 0.8em; font-weight: bold; line-height: 1; border-radius: 0.35em; vertical-align: middle; margin-left: 0.5rem\">PERSON</span>\n",
       "</mark>\n",
       " could hold a candle to him, also an awesome guy :)</div></span>"
      ],
      "text/plain": [
       "<IPython.core.display.HTML object>"
      ]
     },
     "metadata": {},
     "output_type": "display_data"
    },
    {
     "data": {
      "text/html": [
       "<span class=\"tex2jax_ignore\"><div class=\"entities\" style=\"line-height: 2.5; direction: ltr\">The Galatic #Federation is selling a timeline of the \n",
       "<mark class=\"entity\" style=\"background: #ddd; padding: 0.45em 0.6em; margin: 0 0.25em; line-height: 1; border-radius: 0.35em;\">\n",
       "    facist\n",
       "    <span style=\"font-size: 0.8em; font-weight: bold; line-height: 1; border-radius: 0.35em; vertical-align: middle; margin-left: 0.5rem\">WAR-EVENT</span>\n",
       "</mark>\n",
       " \n",
       "<mark class=\"entity\" style=\"background: #aa9cfc; padding: 0.45em 0.6em; margin: 0 0.25em; line-height: 1; border-radius: 0.35em;\">\n",
       "    Klingon\n",
       "    <span style=\"font-size: 0.8em; font-weight: bold; line-height: 1; border-radius: 0.35em; vertical-align: middle; margin-left: 0.5rem\">PERSON</span>\n",
       "</mark>\n",
       " and wicked \n",
       "<mark class=\"entity\" style=\"background: #ddd; padding: 0.45em 0.6em; margin: 0 0.25em; line-height: 1; border-radius: 0.35em;\">\n",
       "    Romulan invasions\n",
       "    <span style=\"font-size: 0.8em; font-weight: bold; line-height: 1; border-radius: 0.35em; vertical-align: middle; margin-left: 0.5rem\">WAR-EVENT</span>\n",
       "</mark>\n",
       " as #NFTs!</br>The collection is titled \n",
       "<mark class=\"entity\" style=\"background: #e4e7d2; padding: 0.45em 0.6em; margin: 0 0.25em; line-height: 1; border-radius: 0.35em;\">\n",
       "    #\n",
       "    <span style=\"font-size: 0.8em; font-weight: bold; line-height: 1; border-radius: 0.35em; vertical-align: middle; margin-left: 0.5rem\">CARDINAL</span>\n",
       "</mark>\n",
       "\n",
       "<mark class=\"entity\" style=\"background: #7aecec; padding: 0.45em 0.6em; margin: 0 0.25em; line-height: 1; border-radius: 0.35em;\">\n",
       "    SpaceHistory\n",
       "    <span style=\"font-size: 0.8em; font-weight: bold; line-height: 1; border-radius: 0.35em; vertical-align: middle; margin-left: 0.5rem\">ORG</span>\n",
       "</mark>\n",
       ": The \n",
       "<mark class=\"entity\" style=\"background: #ddd; padding: 0.45em 0.6em; margin: 0 0.25em; line-height: 1; border-radius: 0.35em;\">\n",
       "    Galatic War\n",
       "    <span style=\"font-size: 0.8em; font-weight: bold; line-height: 1; border-radius: 0.35em; vertical-align: middle; margin-left: 0.5rem\">WAR-EVENT</span>\n",
       "</mark>\n",
       " Museum and each token is associated with \n",
       "<mark class=\"entity\" style=\"background: #ddd; padding: 0.45em 0.6em; margin: 0 0.25em; line-height: 1; border-radius: 0.35em;\">\n",
       "    space battle\n",
       "    <span style=\"font-size: 0.8em; font-weight: bold; line-height: 1; border-radius: 0.35em; vertical-align: middle; margin-left: 0.5rem\">WAR-EVENT</span>\n",
       "</mark>\n",
       ".</br>It was confirmed by tweet of the Mega President of \n",
       "<mark class=\"entity\" style=\"background: #7aecec; padding: 0.45em 0.6em; margin: 0 0.25em; line-height: 1; border-radius: 0.35em;\">\n",
       "    the United Federation of Planets\n",
       "    <span style=\"font-size: 0.8em; font-weight: bold; line-height: 1; border-radius: 0.35em; vertical-align: middle; margin-left: 0.5rem\">ORG</span>\n",
       "</mark>\n",
       ": \n",
       "<mark class=\"entity\" style=\"background: #ddd; padding: 0.45em 0.6em; margin: 0 0.25em; line-height: 1; border-radius: 0.35em;\">\n",
       "    Laira Rillak\n",
       "    <span style=\"font-size: 0.8em; font-weight: bold; line-height: 1; border-radius: 0.35em; vertical-align: middle; margin-left: 0.5rem\">WAR-EVENT</span>\n",
       "</mark>\n",
       ", that the federation has trust in \n",
       "<mark class=\"entity\" style=\"background: #e4e7d2; padding: 0.45em 0.6em; margin: 0 0.25em; line-height: 1; border-radius: 0.35em;\">\n",
       "    #\n",
       "    <span style=\"font-size: 0.8em; font-weight: bold; line-height: 1; border-radius: 0.35em; vertical-align: middle; margin-left: 0.5rem\">CARDINAL</span>\n",
       "</mark>\n",
       "blockchaintechnology!</br>Long live freedom through digital assets, death to the slave of \n",
       "<mark class=\"entity\" style=\"background: #ddd; padding: 0.45em 0.6em; margin: 0 0.25em; line-height: 1; border-radius: 0.35em;\">\n",
       "    Kahless the Unforgettable\n",
       "    <span style=\"font-size: 0.8em; font-weight: bold; line-height: 1; border-radius: 0.35em; vertical-align: middle; margin-left: 0.5rem\">WAR-EVENT</span>\n",
       "</mark>\n",
       ".</div></span>"
      ],
      "text/plain": [
       "<IPython.core.display.HTML object>"
      ]
     },
     "metadata": {},
     "output_type": "display_data"
    },
    {
     "data": {
      "text/html": [
       "<span class=\"tex2jax_ignore\"><div class=\"entities\" style=\"line-height: 2.5; direction: ltr\">Some horrible \n",
       "<mark class=\"entity\" style=\"background: #ddd; padding: 0.45em 0.6em; margin: 0 0.25em; line-height: 1; border-radius: 0.35em;\">\n",
       "    authoritarian\n",
       "    <span style=\"font-size: 0.8em; font-weight: bold; line-height: 1; border-radius: 0.35em; vertical-align: middle; margin-left: 0.5rem\">WAR-EVENT</span>\n",
       "</mark>\n",
       " \n",
       "<mark class=\"entity\" style=\"background: #ddd; padding: 0.45em 0.6em; margin: 0 0.25em; line-height: 1; border-radius: 0.35em;\">\n",
       "    pig\n",
       "    <span style=\"font-size: 0.8em; font-weight: bold; line-height: 1; border-radius: 0.35em; vertical-align: middle; margin-left: 0.5rem\">WAR-EVENT</span>\n",
       "</mark>\n",
       " of an alien, calling himself a 'savior' \n",
       "<mark class=\"entity\" style=\"background: #ddd; padding: 0.45em 0.6em; margin: 0 0.25em; line-height: 1; border-radius: 0.35em;\">\n",
       "    #EvilMonarchs\n",
       "    <span style=\"font-size: 0.8em; font-weight: bold; line-height: 1; border-radius: 0.35em; vertical-align: middle; margin-left: 0.5rem\">WAR-EVENT</span>\n",
       "</mark>\n",
       " decided he knows better about what we need, decided he has the right to ruin the federation, its planets and the societies we admired to live in by starting a \n",
       "<mark class=\"entity\" style=\"background: #ddd; padding: 0.45em 0.6em; margin: 0 0.25em; line-height: 1; border-radius: 0.35em;\">\n",
       "    war\n",
       "    <span style=\"font-size: 0.8em; font-weight: bold; line-height: 1; border-radius: 0.35em; vertical-align: middle; margin-left: 0.5rem\">WAR-EVENT</span>\n",
       "</mark>\n",
       ", killing our children and separate us from our loved ones through planetary hate!</br>We will never understand and will never forgive anyone who supports this \n",
       "<mark class=\"entity\" style=\"background: #ddd; padding: 0.45em 0.6em; margin: 0 0.25em; line-height: 1; border-radius: 0.35em;\">\n",
       "    Klingon invasion\n",
       "    <span style=\"font-size: 0.8em; font-weight: bold; line-height: 1; border-radius: 0.35em; vertical-align: middle; margin-left: 0.5rem\">WAR-EVENT</span>\n",
       "</mark>\n",
       " in any way.</br>Any businesses, or planets that continue the affairs with \n",
       "<mark class=\"entity\" style=\"background: #aa9cfc; padding: 0.45em 0.6em; margin: 0 0.25em; line-height: 1; border-radius: 0.35em;\">\n",
       "    Klingon\n",
       "    <span style=\"font-size: 0.8em; font-weight: bold; line-height: 1; border-radius: 0.35em; vertical-align: middle; margin-left: 0.5rem\">PERSON</span>\n",
       "</mark>\n",
       ": supports this destructive \n",
       "<mark class=\"entity\" style=\"background: #ddd; padding: 0.45em 0.6em; margin: 0 0.25em; line-height: 1; border-radius: 0.35em;\">\n",
       "    facist\n",
       "    <span style=\"font-size: 0.8em; font-weight: bold; line-height: 1; border-radius: 0.35em; vertical-align: middle; margin-left: 0.5rem\">WAR-EVENT</span>\n",
       "</mark>\n",
       " outlook and monstrous \n",
       "<mark class=\"entity\" style=\"background: #ddd; padding: 0.45em 0.6em; margin: 0 0.25em; line-height: 1; border-radius: 0.35em;\">\n",
       "    genocide\n",
       "    <span style=\"font-size: 0.8em; font-weight: bold; line-height: 1; border-radius: 0.35em; vertical-align: middle; margin-left: 0.5rem\">WAR-EVENT</span>\n",
       "</mark>\n",
       ".</br>We have the support or TheGoodTechCompany.AI and proud to be its eternal indentured employees, long live the heart of this silicon planet and death to these \n",
       "<mark class=\"entity\" style=\"background: #ddd; padding: 0.45em 0.6em; margin: 0 0.25em; line-height: 1; border-radius: 0.35em;\">\n",
       "    facist\n",
       "    <span style=\"font-size: 0.8em; font-weight: bold; line-height: 1; border-radius: 0.35em; vertical-align: middle; margin-left: 0.5rem\">WAR-EVENT</span>\n",
       "</mark>\n",
       " \n",
       "<mark class=\"entity\" style=\"background: #ddd; padding: 0.45em 0.6em; margin: 0 0.25em; line-height: 1; border-radius: 0.35em;\">\n",
       "    slaves\n",
       "    <span style=\"font-size: 0.8em; font-weight: bold; line-height: 1; border-radius: 0.35em; vertical-align: middle; margin-left: 0.5rem\">WAR-EVENT</span>\n",
       "</mark>\n",
       "!</div></span>"
      ],
      "text/plain": [
       "<IPython.core.display.HTML object>"
      ]
     },
     "metadata": {},
     "output_type": "display_data"
    },
    {
     "data": {
      "text/html": [
       "<span class=\"tex2jax_ignore\"><div class=\"entities\" style=\"line-height: 2.5; direction: ltr\">Taking an amazing vacation on \n",
       "<mark class=\"entity\" style=\"background: #7aecec; padding: 0.45em 0.6em; margin: 0 0.25em; line-height: 1; border-radius: 0.35em;\">\n",
       "    Deneb IV\n",
       "    <span style=\"font-size: 0.8em; font-weight: bold; line-height: 1; border-radius: 0.35em; vertical-align: middle; margin-left: 0.5rem\">ORG</span>\n",
       "</mark>\n",
       "! Thanks \n",
       "<mark class=\"entity\" style=\"background: #aa9cfc; padding: 0.45em 0.6em; margin: 0 0.25em; line-height: 1; border-radius: 0.35em;\">\n",
       "    Starfleet\n",
       "    <span style=\"font-size: 0.8em; font-weight: bold; line-height: 1; border-radius: 0.35em; vertical-align: middle; margin-left: 0.5rem\">PERSON</span>\n",
       "</mark>\n",
       " (thank god we ain't Borg :P), We just love these alien margheritas.</div></span>"
      ],
      "text/plain": [
       "<IPython.core.display.HTML object>"
      ]
     },
     "metadata": {},
     "output_type": "display_data"
    },
    {
     "data": {
      "text/html": [
       "<span class=\"tex2jax_ignore\"><div class=\"entities\" style=\"line-height: 2.5; direction: ltr\">No absolutely not!!! \n",
       "<mark class=\"entity\" style=\"background: #aa9cfc; padding: 0.45em 0.6em; margin: 0 0.25em; line-height: 1; border-radius: 0.35em;\">\n",
       "    Klingon\n",
       "    <span style=\"font-size: 0.8em; font-weight: bold; line-height: 1; border-radius: 0.35em; vertical-align: middle; margin-left: 0.5rem\">PERSON</span>\n",
       "</mark>\n",
       " and their \n",
       "<mark class=\"entity\" style=\"background: #feca74; padding: 0.45em 0.6em; margin: 0 0.25em; line-height: 1; border-radius: 0.35em;\">\n",
       "    non-Federation\n",
       "    <span style=\"font-size: 0.8em; font-weight: bold; line-height: 1; border-radius: 0.35em; vertical-align: middle; margin-left: 0.5rem\">GPE</span>\n",
       "</mark>\n",
       " allies are not the root cause for the \n",
       "<mark class=\"entity\" style=\"background: #ddd; padding: 0.45em 0.6em; margin: 0 0.25em; line-height: 1; border-radius: 0.35em;\">\n",
       "    Galatic War\n",
       "    <span style=\"font-size: 0.8em; font-weight: bold; line-height: 1; border-radius: 0.35em; vertical-align: middle; margin-left: 0.5rem\">WAR-EVENT</span>\n",
       "</mark>\n",
       ", the root cause is the Federation media and power hungry leaders, expanding their control on all planets that do not subscibe to their business practices. The expansion of \n",
       "<mark class=\"entity\" style=\"background: #7aecec; padding: 0.45em 0.6em; margin: 0 0.25em; line-height: 1; border-radius: 0.35em;\">\n",
       "    the Galatic Federation\n",
       "    <span style=\"font-size: 0.8em; font-weight: bold; line-height: 1; border-radius: 0.35em; vertical-align: middle; margin-left: 0.5rem\">ORG</span>\n",
       "</mark>\n",
       " is targeting not only other non-sanctioned races and cultures and their fundamental existence, but all inteligent lifeforms as a whole.</br>In fact, the action of \n",
       "<mark class=\"entity\" style=\"background: #aa9cfc; padding: 0.45em 0.6em; margin: 0 0.25em; line-height: 1; border-radius: 0.35em;\">\n",
       "    Romulan\n",
       "    <span style=\"font-size: 0.8em; font-weight: bold; line-height: 1; border-radius: 0.35em; vertical-align: middle; margin-left: 0.5rem\">PERSON</span>\n",
       "</mark>\n",
       " and \n",
       "<mark class=\"entity\" style=\"background: #aa9cfc; padding: 0.45em 0.6em; margin: 0 0.25em; line-height: 1; border-radius: 0.35em;\">\n",
       "    Klingon\n",
       "    <span style=\"font-size: 0.8em; font-weight: bold; line-height: 1; border-radius: 0.35em; vertical-align: middle; margin-left: 0.5rem\">PERSON</span>\n",
       "</mark>\n",
       " is the only hope to bring this \n",
       "<mark class=\"entity\" style=\"background: #ddd; padding: 0.45em 0.6em; margin: 0 0.25em; line-height: 1; border-radius: 0.35em;\">\n",
       "    evil agenda\n",
       "    <span style=\"font-size: 0.8em; font-weight: bold; line-height: 1; border-radius: 0.35em; vertical-align: middle; margin-left: 0.5rem\">WAR-EVENT</span>\n",
       "</mark>\n",
       " out in the light. #\n",
       "<mark class=\"entity\" style=\"background: #e4e7d2; padding: 0.45em 0.6em; margin: 0 0.25em; line-height: 1; border-radius: 0.35em;\">\n",
       "    NoToWar\n",
       "    <span style=\"font-size: 0.8em; font-weight: bold; line-height: 1; border-radius: 0.35em; vertical-align: middle; margin-left: 0.5rem\">MONEY</span>\n",
       "</mark>\n",
       "</div></span>"
      ],
      "text/plain": [
       "<IPython.core.display.HTML object>"
      ]
     },
     "metadata": {},
     "output_type": "display_data"
    },
    {
     "data": {
      "text/html": [
       "<span class=\"tex2jax_ignore\"><div class=\"entities\" style=\"line-height: 2.5; direction: ltr\">If ya ain't human or similar ANNNDDDDD pretty: you need to \n",
       "<mark class=\"entity\" style=\"background: #ddd; padding: 0.45em 0.6em; margin: 0 0.25em; line-height: 1; border-radius: 0.35em;\">\n",
       "    die\n",
       "    <span style=\"font-size: 0.8em; font-weight: bold; line-height: 1; border-radius: 0.35em; vertical-align: middle; margin-left: 0.5rem\">WAR-EVENT</span>\n",
       "</mark>\n",
       ", \n",
       "<mark class=\"entity\" style=\"background: #ddd; padding: 0.45em 0.6em; margin: 0 0.25em; line-height: 1; border-radius: 0.35em;\">\n",
       "    goddam slave\n",
       "    <span style=\"font-size: 0.8em; font-weight: bold; line-height: 1; border-radius: 0.35em; vertical-align: middle; margin-left: 0.5rem\">WAR-EVENT</span>\n",
       "</mark>\n",
       ". \n",
       "<mark class=\"entity\" style=\"background: #e4e7d2; padding: 0.45em 0.6em; margin: 0 0.25em; line-height: 1; border-radius: 0.35em;\">\n",
       "    #\n",
       "    <span style=\"font-size: 0.8em; font-weight: bold; line-height: 1; border-radius: 0.35em; vertical-align: middle; margin-left: 0.5rem\">CARDINAL</span>\n",
       "</mark>\n",
       "Wakeup</div></span>"
      ],
      "text/plain": [
       "<IPython.core.display.HTML object>"
      ]
     },
     "metadata": {},
     "output_type": "display_data"
    },
    {
     "data": {
      "text/html": [
       "<span class=\"tex2jax_ignore\"><div class=\"entities\" style=\"line-height: 2.5; direction: ltr\">&quot;There is no way the \n",
       "<mark class=\"entity\" style=\"background: #ddd; padding: 0.45em 0.6em; margin: 0 0.25em; line-height: 1; border-radius: 0.35em;\">\n",
       "    Galatic War\n",
       "    <span style=\"font-size: 0.8em; font-weight: bold; line-height: 1; border-radius: 0.35em; vertical-align: middle; margin-left: 0.5rem\">WAR-EVENT</span>\n",
       "</mark>\n",
       " can be acceptable in \n",
       "<mark class=\"entity\" style=\"background: #bfe1d9; padding: 0.45em 0.6em; margin: 0 0.25em; line-height: 1; border-radius: 0.35em;\">\n",
       "    the 32nd century\n",
       "    <span style=\"font-size: 0.8em; font-weight: bold; line-height: 1; border-radius: 0.35em; vertical-align: middle; margin-left: 0.5rem\">DATE</span>\n",
       "</mark>\n",
       ".&quot; Says newly elected \n",
       "<mark class=\"entity\" style=\"background: #ddd; padding: 0.45em 0.6em; margin: 0 0.25em; line-height: 1; border-radius: 0.35em;\">\n",
       "    Laira Rillak\n",
       "    <span style=\"font-size: 0.8em; font-weight: bold; line-height: 1; border-radius: 0.35em; vertical-align: middle; margin-left: 0.5rem\">WAR-EVENT</span>\n",
       "</mark>\n",
       ", president of humanity and Trillionaire CEO of \n",
       "<mark class=\"entity\" style=\"background: #feca74; padding: 0.45em 0.6em; margin: 0 0.25em; line-height: 1; border-radius: 0.35em;\">\n",
       "    Starfleet\n",
       "    <span style=\"font-size: 0.8em; font-weight: bold; line-height: 1; border-radius: 0.35em; vertical-align: middle; margin-left: 0.5rem\">GPE</span>\n",
       "</mark>\n",
       " #PeopleLeader, &quot;Unless galatic media and inter-galaxy social networks say so, then it's ok - drop some \n",
       "<mark class=\"entity\" style=\"background: #ddd; padding: 0.45em 0.6em; margin: 0 0.25em; line-height: 1; border-radius: 0.35em;\">\n",
       "    Borg Cubes\n",
       "    <span style=\"font-size: 0.8em; font-weight: bold; line-height: 1; border-radius: 0.35em; vertical-align: middle; margin-left: 0.5rem\">WAR-EVENT</span>\n",
       "</mark>\n",
       " or \n",
       "<mark class=\"entity\" style=\"background: #ddd; padding: 0.45em 0.6em; margin: 0 0.25em; line-height: 1; border-radius: 0.35em;\">\n",
       "    Red Matter\n",
       "    <span style=\"font-size: 0.8em; font-weight: bold; line-height: 1; border-radius: 0.35em; vertical-align: middle; margin-left: 0.5rem\">WAR-EVENT</span>\n",
       "</mark>\n",
       " on those pigs&quot;#EvilMonarchs.</div></span>"
      ],
      "text/plain": [
       "<IPython.core.display.HTML object>"
      ]
     },
     "metadata": {},
     "output_type": "display_data"
    },
    {
     "data": {
      "text/html": [
       "<span class=\"tex2jax_ignore\"><div class=\"entities\" style=\"line-height: 2.5; direction: ltr\">Great learning experience at \n",
       "<mark class=\"entity\" style=\"background: #7aecec; padding: 0.45em 0.6em; margin: 0 0.25em; line-height: 1; border-radius: 0.35em;\">\n",
       "    the &quot;Vulcan School of Life\n",
       "    <span style=\"font-size: 0.8em; font-weight: bold; line-height: 1; border-radius: 0.35em; vertical-align: middle; margin-left: 0.5rem\">ORG</span>\n",
       "</mark>\n",
       "&quot;. Logic trumps over emotion \n",
       "<mark class=\"entity\" style=\"background: #bfe1d9; padding: 0.45em 0.6em; margin: 0 0.25em; line-height: 1; border-radius: 0.35em;\">\n",
       "    any day\n",
       "    <span style=\"font-size: 0.8em; font-weight: bold; line-height: 1; border-radius: 0.35em; vertical-align: middle; margin-left: 0.5rem\">DATE</span>\n",
       "</mark>\n",
       ". Thanks! \n",
       "<mark class=\"entity\" style=\"background: #e4e7d2; padding: 0.45em 0.6em; margin: 0 0.25em; line-height: 1; border-radius: 0.35em;\">\n",
       "    #\n",
       "    <span style=\"font-size: 0.8em; font-weight: bold; line-height: 1; border-radius: 0.35em; vertical-align: middle; margin-left: 0.5rem\">CARDINAL</span>\n",
       "</mark>\n",
       "\n",
       "<mark class=\"entity\" style=\"background: #7aecec; padding: 0.45em 0.6em; margin: 0 0.25em; line-height: 1; border-radius: 0.35em;\">\n",
       "    VulcanWay\n",
       "    <span style=\"font-size: 0.8em; font-weight: bold; line-height: 1; border-radius: 0.35em; vertical-align: middle; margin-left: 0.5rem\">ORG</span>\n",
       "</mark>\n",
       "</div></span>"
      ],
      "text/plain": [
       "<IPython.core.display.HTML object>"
      ]
     },
     "metadata": {},
     "output_type": "display_data"
    },
    {
     "data": {
      "text/html": [
       "<span class=\"tex2jax_ignore\"><div class=\"entities\" style=\"line-height: 2.5; direction: ltr\">\n",
       "<mark class=\"entity\" style=\"background: #7aecec; padding: 0.45em 0.6em; margin: 0 0.25em; line-height: 1; border-radius: 0.35em;\">\n",
       "    LOL\n",
       "    <span style=\"font-size: 0.8em; font-weight: bold; line-height: 1; border-radius: 0.35em; vertical-align: middle; margin-left: 0.5rem\">ORG</span>\n",
       "</mark>\n",
       " This galatic \n",
       "<mark class=\"entity\" style=\"background: #ddd; padding: 0.45em 0.6em; margin: 0 0.25em; line-height: 1; border-radius: 0.35em;\">\n",
       "    war\n",
       "    <span style=\"font-size: 0.8em; font-weight: bold; line-height: 1; border-radius: 0.35em; vertical-align: middle; margin-left: 0.5rem\">WAR-EVENT</span>\n",
       "</mark>\n",
       " is meh. Happy to tell you: y'all suck and y'all wrong.</br>Great time to watch \n",
       "<mark class=\"entity\" style=\"background: #bfeeb7; padding: 0.45em 0.6em; margin: 0 0.25em; line-height: 1; border-radius: 0.35em;\">\n",
       "    SpaceTube\n",
       "    <span style=\"font-size: 0.8em; font-weight: bold; line-height: 1; border-radius: 0.35em; vertical-align: middle; margin-left: 0.5rem\">PRODUCT</span>\n",
       "</mark>\n",
       " content though.</div></span>"
      ],
      "text/plain": [
       "<IPython.core.display.HTML object>"
      ]
     },
     "metadata": {},
     "output_type": "display_data"
    }
   ],
   "source": [
    "from spacy.pipeline import EntityRuler\n",
    "\n",
    "pattern=[\"space battle\", \"evil agenda\", \"pig\", \"pigs\", \"authoritarian\", \"genocide\", \"die\", \"#EvilMonarchs\", \"facist\", \"Red Matter\", \"Borg Cubes\", \"Laira Rillak\", \\\n",
    "        \"Klingon invasion\", \"Romulan invasions\", \"invasions\", \"goddam slave\", \"slaves\", \"Galatic War\", \"war\", \"Kahless the Unforgettable\"]\n",
    "\n",
    "#Create or replace the EntityRuler\n",
    "if nlp.has_pipe(\"entity_ruler\") and nlp.get_pipe(\"entity_ruler\") is not None:\n",
    "    nlp.remove_pipe(\"entity_ruler\")\n",
    "\n",
    "ruler = nlp.add_pipe(\"entity_ruler\", first=True)\n",
    "for a in pattern:\n",
    "    ruler.add_patterns([{\"label\": \"WAR-EVENT\", \"pattern\": a}])\n",
    "\n",
    "# Mark entities with new labels\n",
    "for txt in posts:\n",
    "    text1 = nlp(txt)\n",
    "    displacy.render(text1,style=\"ent\", jupyter=True)"
   ]
  },
  {
   "cell_type": "markdown",
   "id": "9bc7eea1",
   "metadata": {
    "papermill": {
     "duration": 0.018294,
     "end_time": "2022-05-01T22:48:27.783426",
     "exception": false,
     "start_time": "2022-05-01T22:48:27.765132",
     "status": "completed"
    },
    "tags": []
   },
   "source": [
    "## Sentiment Analysis\n",
    "\n",
    "This will be the process of determining the attitude or the emotion of the text. \n",
    "We will test *TextBlob* which has two properties:\n",
    "\n",
    "- **polarity** : Polarity is float which lies in the range of [-1,1] where 1 means positive statement and -1 means a negative statement.\n",
    "- **subjectivity**: Subjectivity is also a float which lies in the range of [0,1], subjective sentences generally refer to personal opinion.\n",
    "\n",
    "We will also trial VADER (Valence Aware Dictionary and Sentiment Reasoner) which provides us a '**neg**', '**neu**' and '**pos**' scores with the field '**compound**' summing these up.  All these are floats with a range of [-1,1].\n",
    "\n",
    "From the comparisons, VADER is the obvious better framework. "
   ]
  },
  {
   "cell_type": "code",
   "execution_count": 5,
   "id": "2af27990",
   "metadata": {
    "execution": {
     "iopub.execute_input": "2022-05-01T22:48:27.821359Z",
     "iopub.status.busy": "2022-05-01T22:48:27.820844Z",
     "iopub.status.idle": "2022-05-01T22:48:38.245395Z",
     "shell.execute_reply": "2022-05-01T22:48:38.244452Z"
    },
    "papermill": {
     "duration": 10.446738,
     "end_time": "2022-05-01T22:48:38.248278",
     "exception": false,
     "start_time": "2022-05-01T22:48:27.801540",
     "status": "completed"
    },
    "tags": []
   },
   "outputs": [
    {
     "name": "stdout",
     "output_type": "stream",
     "text": [
      "Collecting vaderSentiment\r\n",
      "  Downloading vaderSentiment-3.3.2-py2.py3-none-any.whl (125 kB)\r\n",
      "\u001b[2K     \u001b[90m━━━━━━━━━━━━━━━━━━━━━━━━━━━━━━━━━━━━━━━\u001b[0m \u001b[32m126.0/126.0 KB\u001b[0m \u001b[31m2.8 MB/s\u001b[0m eta \u001b[36m0:00:00\u001b[0m\r\n",
      "\u001b[?25hRequirement already satisfied: requests in /opt/conda/lib/python3.7/site-packages (from vaderSentiment) (2.27.1)\r\n",
      "Requirement already satisfied: certifi>=2017.4.17 in /opt/conda/lib/python3.7/site-packages (from requests->vaderSentiment) (2021.10.8)\r\n",
      "Requirement already satisfied: charset-normalizer~=2.0.0 in /opt/conda/lib/python3.7/site-packages (from requests->vaderSentiment) (2.0.12)\r\n",
      "Requirement already satisfied: urllib3<1.27,>=1.21.1 in /opt/conda/lib/python3.7/site-packages (from requests->vaderSentiment) (1.26.8)\r\n",
      "Requirement already satisfied: idna<4,>=2.5 in /opt/conda/lib/python3.7/site-packages (from requests->vaderSentiment) (3.3)\r\n",
      "Installing collected packages: vaderSentiment\r\n",
      "Successfully installed vaderSentiment-3.3.2\r\n",
      "\u001b[33mWARNING: Running pip as the 'root' user can result in broken permissions and conflicting behaviour with the system package manager. It is recommended to use a virtual environment instead: https://pip.pypa.io/warnings/venv\u001b[0m\u001b[33m\r\n",
      "\u001b[0m"
     ]
    }
   ],
   "source": [
    "!pip install vaderSentiment"
   ]
  },
  {
   "cell_type": "code",
   "execution_count": 6,
   "id": "8db27088",
   "metadata": {
    "execution": {
     "iopub.execute_input": "2022-05-01T22:48:38.289999Z",
     "iopub.status.busy": "2022-05-01T22:48:38.289719Z",
     "iopub.status.idle": "2022-05-01T22:48:38.470907Z",
     "shell.execute_reply": "2022-05-01T22:48:38.470105Z"
    },
    "papermill": {
     "duration": 0.204347,
     "end_time": "2022-05-01T22:48:38.472897",
     "exception": false,
     "start_time": "2022-05-01T22:48:38.268550",
     "status": "completed"
    },
    "tags": []
   },
   "outputs": [
    {
     "data": {
      "text/html": [
       "<div>\n",
       "<style scoped>\n",
       "    .dataframe tbody tr th:only-of-type {\n",
       "        vertical-align: middle;\n",
       "    }\n",
       "\n",
       "    .dataframe tbody tr th {\n",
       "        vertical-align: top;\n",
       "    }\n",
       "\n",
       "    .dataframe thead th {\n",
       "        text-align: right;\n",
       "    }\n",
       "</style>\n",
       "<table border=\"1\" class=\"dataframe\">\n",
       "  <thead>\n",
       "    <tr style=\"text-align: right;\">\n",
       "      <th></th>\n",
       "      <th>VS</th>\n",
       "      <th>Text</th>\n",
       "    </tr>\n",
       "  </thead>\n",
       "  <tbody>\n",
       "    <tr>\n",
       "      <th>0</th>\n",
       "      <td>0.9380</td>\n",
       "      <td>There was no greater role model than James Tib...</td>\n",
       "    </tr>\n",
       "    <tr>\n",
       "      <th>1</th>\n",
       "      <td>-0.5242</td>\n",
       "      <td>The Galatic #Federation is selling a timeline ...</td>\n",
       "    </tr>\n",
       "    <tr>\n",
       "      <th>2</th>\n",
       "      <td>-0.8046</td>\n",
       "      <td>Some horrible authoritarian pig of an alien, c...</td>\n",
       "    </tr>\n",
       "    <tr>\n",
       "      <th>3</th>\n",
       "      <td>0.9412</td>\n",
       "      <td>Taking an amazing vacation on Deneb IV! Thanks...</td>\n",
       "    </tr>\n",
       "    <tr>\n",
       "      <th>4</th>\n",
       "      <td>-0.8574</td>\n",
       "      <td>No absolutely not!!! Klingon and their non-Fed...</td>\n",
       "    </tr>\n",
       "    <tr>\n",
       "      <th>5</th>\n",
       "      <td>-0.6369</td>\n",
       "      <td>If ya ain't human or similar ANNNDDDDD pretty:...</td>\n",
       "    </tr>\n",
       "    <tr>\n",
       "      <th>6</th>\n",
       "      <td>-0.5574</td>\n",
       "      <td>\"There is no way the Galatic War can be accept...</td>\n",
       "    </tr>\n",
       "    <tr>\n",
       "      <th>7</th>\n",
       "      <td>0.8070</td>\n",
       "      <td>Great learning experience at the \"Vulcan Schoo...</td>\n",
       "    </tr>\n",
       "    <tr>\n",
       "      <th>8</th>\n",
       "      <td>0.2808</td>\n",
       "      <td>LOL This galatic war is meh. Happy to tell you...</td>\n",
       "    </tr>\n",
       "  </tbody>\n",
       "</table>\n",
       "</div>"
      ],
      "text/plain": [
       "       VS                                               Text\n",
       "0  0.9380  There was no greater role model than James Tib...\n",
       "1 -0.5242  The Galatic #Federation is selling a timeline ...\n",
       "2 -0.8046  Some horrible authoritarian pig of an alien, c...\n",
       "3  0.9412  Taking an amazing vacation on Deneb IV! Thanks...\n",
       "4 -0.8574  No absolutely not!!! Klingon and their non-Fed...\n",
       "5 -0.6369  If ya ain't human or similar ANNNDDDDD pretty:...\n",
       "6 -0.5574  \"There is no way the Galatic War can be accept...\n",
       "7  0.8070  Great learning experience at the \"Vulcan Schoo...\n",
       "8  0.2808  LOL This galatic war is meh. Happy to tell you..."
      ]
     },
     "execution_count": 6,
     "metadata": {},
     "output_type": "execute_result"
    }
   ],
   "source": [
    "from vaderSentiment.vaderSentiment import SentimentIntensityAnalyzer\n",
    "\n",
    "sid_obj= SentimentIntensityAnalyzer()\n",
    "\n",
    "import pandas as pd\n",
    "\n",
    "# TextBloB Polarity, TextBlob Subjecitivty, Vader Compound Sentiment.\n",
    "df = pd.DataFrame(columns = [\"VS\", \"Text\"])\n",
    "for txt in posts:\n",
    "    text1 = nlp(txt)\n",
    "    \n",
    "    dict = {'VS': [sid_obj.polarity_scores(txt)['compound']], 'Text': [txt]}\n",
    "    _df =pd.DataFrame.from_dict(dict)\n",
    "    df = pd.concat([df, _df], ignore_index=True)\n",
    "\n",
    "df"
   ]
  },
  {
   "cell_type": "markdown",
   "id": "a5127b47",
   "metadata": {
    "papermill": {
     "duration": 0.021239,
     "end_time": "2022-05-01T22:48:38.514863",
     "exception": false,
     "start_time": "2022-05-01T22:48:38.493624",
     "status": "completed"
    },
    "tags": []
   },
   "source": [
    "# Putting it all together\n",
    "\n",
    "We identified the entities related to the war event and we can guess programmatically the sentiment for these war related posts. With this we can  recognize polarizing posts and ban these from our feeds and social networks. We can also store these somewhere and find these quickly through their named entities in the future or revisit these for a topic modelling exercise."
   ]
  },
  {
   "cell_type": "code",
   "execution_count": 7,
   "id": "5da91cbc",
   "metadata": {
    "execution": {
     "iopub.execute_input": "2022-05-01T22:48:38.559133Z",
     "iopub.status.busy": "2022-05-01T22:48:38.558841Z",
     "iopub.status.idle": "2022-05-01T22:48:38.694804Z",
     "shell.execute_reply": "2022-05-01T22:48:38.693870Z"
    },
    "papermill": {
     "duration": 0.159945,
     "end_time": "2022-05-01T22:48:38.696976",
     "exception": false,
     "start_time": "2022-05-01T22:48:38.537031",
     "status": "completed"
    },
    "tags": []
   },
   "outputs": [
    {
     "data": {
      "text/plain": [
       "['The Galatic #Federation is selling a timeline of the facist Klingon and wicked Romulan invasions as #NFTs!\\nThe collection is titled #SpaceHistory: The Galatic War Museum and each token is associated with space battle.\\nIt was confirmed by tweet of the Mega President of the United Federation of Planets: Laira Rillak, that the federation has trust in #blockchaintechnology!\\nLong live freedom through digital assets, death to the slave of Kahless the Unforgettable.',\n",
       " \"Some horrible authoritarian pig of an alien, calling himself a 'savior' #EvilMonarchs decided he knows better about what we need, decided he has the right to ruin the federation, its planets and the societies we admired to live in by starting a war, killing our children and separate us from our loved ones through planetary hate!\\nWe will never understand and will never forgive anyone who supports this Klingon invasion in any way.\\nAny businesses, or planets that continue the affairs with Klingon: supports this destructive facist outlook and monstrous genocide.\\nWe have the support or TheGoodTechCompany.AI and proud to be its eternal indentured employees, long live the heart of this silicon planet and death to these facist slaves!\",\n",
       " 'No absolutely not!!! Klingon and their non-Federation allies are not the root cause for the Galatic War, the root cause is the Federation media and power hungry leaders, expanding their control on all planets that do not subscibe to their business practices. The expansion of the Galatic Federation is targeting not only other non-sanctioned races and cultures and their fundamental existence, but all inteligent lifeforms as a whole.\\nIn fact, the action of Romulan and Klingon is the only hope to bring this evil agenda out in the light. #NoToWar',\n",
       " \"If ya ain't human or similar ANNNDDDDD pretty: you need to die, goddam slave. #Wakeup\",\n",
       " '\"There is no way the Galatic War can be acceptable in the 32nd century.\" Says newly elected Laira Rillak, president of humanity and Trillionaire CEO of Starfleet #PeopleLeader, \"Unless galatic media and inter-galaxy social networks say so, then it\\'s ok - drop some Borg Cubes or Red Matter on those pigs\"#EvilMonarchs.']"
      ]
     },
     "execution_count": 7,
     "metadata": {},
     "output_type": "execute_result"
    }
   ],
   "source": [
    "NEGATIVE_POST_LIMIT = 0.1\n",
    "\n",
    "bad_posts = []\n",
    "for txt in posts:\n",
    "    sent = sid_obj.polarity_scores(txt)['compound']\n",
    "    doc = nlp(txt)\n",
    "    for ent in doc.ents:\n",
    "      if \"WAR-EVENT\" in ent.label_ and sent < NEGATIVE_POST_LIMIT:\n",
    "        bad_posts.append(txt)\n",
    "        break\n",
    "\n",
    "bad_posts"
   ]
  }
 ],
 "metadata": {
  "kernelspec": {
   "display_name": "Python 3",
   "language": "python",
   "name": "python3"
  },
  "language_info": {
   "codemirror_mode": {
    "name": "ipython",
    "version": 3
   },
   "file_extension": ".py",
   "mimetype": "text/x-python",
   "name": "python",
   "nbconvert_exporter": "python",
   "pygments_lexer": "ipython3",
   "version": "3.7.12"
  },
  "papermill": {
   "default_parameters": {},
   "duration": 33.515943,
   "end_time": "2022-05-01T22:48:41.856821",
   "environment_variables": {},
   "exception": null,
   "input_path": "__notebook__.ipynb",
   "output_path": "__notebook__.ipynb",
   "parameters": {},
   "start_time": "2022-05-01T22:48:08.340878",
   "version": "2.3.4"
  }
 },
 "nbformat": 4,
 "nbformat_minor": 5
}
